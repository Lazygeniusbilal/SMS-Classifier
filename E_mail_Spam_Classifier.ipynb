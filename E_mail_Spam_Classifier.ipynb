{
  "cells": [
    {
      "cell_type": "code",
      "execution_count": 4,
      "metadata": {
        "id": "oBxHU-Lv-FBA"
      },
      "outputs": [],
      "source": [
        "#import dependencies\n",
        "import numpy as np\n",
        "import pandas as pd\n",
        "import seaborn as sns\n",
        "import matplotlib.pyplot as plt\n",
        "from mlxtend.plotting import plot_decision_regions\n",
        "import nltk\n",
        "from nltk.corpus import stopwords\n",
        "import string\n",
        "from nltk.stem.porter import PorterStemmer\n",
        "from sklearn.preprocessing import LabelEncoder\n",
        "from sklearn.feature_extraction.text import CountVectorizer, TfidfVectorizer\n",
        "from sklearn.model_selection import train_test_split, cross_val_score\n",
        "from sklearn.naive_bayes import BernoulliNB, GaussianNB, MultinomialNB\n",
        "from sklearn.linear_model import LogisticRegression\n",
        "from sklearn.svm import SVC\n",
        "from sklearn.tree import DecisionTreeClassifier\n",
        "from sklearn.neighbors import KNeighborsClassifier\n",
        "from sklearn.ensemble import RandomForestClassifier\n",
        "from sklearn.ensemble import AdaBoostClassifier\n",
        "from sklearn.ensemble import BaggingClassifier\n",
        "from sklearn.ensemble import ExtraTreesClassifier\n",
        "from sklearn.ensemble import GradientBoostingClassifier\n",
        "from xgboost import XGBClassifier\n",
        "from sklearn.metrics import accuracy_score, precision_score, confusion_matrix, f1_score, recall_score\n",
        "from imblearn.over_sampling import RandomOverSampler\n",
        "from imblearn.under_sampling import RandomUnderSampler\n",
        "%matplotlib inline"
      ]
    },
    {
      "cell_type": "code",
      "execution_count": 5,
      "metadata": {
        "colab": {
          "base_uri": "https://localhost:8080/"
        },
        "id": "42omErHsEKwl",
        "outputId": "4974a2ac-24a8-40c6-98aa-4431b88d7e64"
      },
      "outputs": [
        {
          "name": "stderr",
          "output_type": "stream",
          "text": [
            "[nltk_data] Downloading package punkt to /root/nltk_data...\n",
            "[nltk_data]   Unzipping tokenizers/punkt.zip.\n"
          ]
        },
        {
          "data": {
            "text/plain": [
              "True"
            ]
          },
          "execution_count": 5,
          "metadata": {},
          "output_type": "execute_result"
        }
      ],
      "source": [
        "nltk.download(\"punkt\")"
      ]
    },
    {
      "cell_type": "code",
      "execution_count": 6,
      "metadata": {
        "colab": {
          "base_uri": "https://localhost:8080/"
        },
        "id": "uNfbNA3JHskm",
        "outputId": "90869130-0541-457f-92ce-d09539485193"
      },
      "outputs": [
        {
          "name": "stderr",
          "output_type": "stream",
          "text": [
            "[nltk_data] Downloading package stopwords to /root/nltk_data...\n",
            "[nltk_data]   Unzipping corpora/stopwords.zip.\n"
          ]
        },
        {
          "data": {
            "text/plain": [
              "True"
            ]
          },
          "execution_count": 6,
          "metadata": {},
          "output_type": "execute_result"
        }
      ],
      "source": [
        "nltk.download('stopwords')"
      ]
    },
    {
      "cell_type": "code",
      "execution_count": 7,
      "metadata": {
        "id": "SCODf3P5-iV-"
      },
      "outputs": [],
      "source": [
        "# reading the dataset\n",
        "data = pd.read_csv(\"/content/email.csv\")"
      ]
    },
    {
      "cell_type": "code",
      "execution_count": 8,
      "metadata": {
        "id": "Eap0mY8l-z0E"
      },
      "outputs": [],
      "source": [
        "#making a copy to save the original dataset\n",
        "data_copy = data.copy()"
      ]
    },
    {
      "cell_type": "code",
      "execution_count": 9,
      "metadata": {
        "colab": {
          "base_uri": "https://localhost:8080/",
          "height": 206
        },
        "id": "EZrOtlJh_gJp",
        "outputId": "95ec8dba-9201-4929-804c-034d79d4308e"
      },
      "outputs": [
        {
          "data": {
            "application/vnd.google.colaboratory.intrinsic+json": {
              "summary": "{\n  \"name\": \"data_copy\",\n  \"rows\": 5,\n  \"fields\": [\n    {\n      \"column\": \"Category\",\n      \"properties\": {\n        \"dtype\": \"category\",\n        \"num_unique_values\": 1,\n        \"samples\": [\n          \"ham\"\n        ],\n        \"semantic_type\": \"\",\n        \"description\": \"\"\n      }\n    },\n    {\n      \"column\": \"Message\",\n      \"properties\": {\n        \"dtype\": \"string\",\n        \"num_unique_values\": 5,\n        \"samples\": [\n          \"Lol I have to take it. member how I said my aunt flow didn't visit for 6 months? It's cause I developed ovarian cysts. Bc is the only way to shrink them.\"\n        ],\n        \"semantic_type\": \"\",\n        \"description\": \"\"\n      }\n    }\n  ]\n}",
              "type": "dataframe"
            },
            "text/html": [
              "\n",
              "  <div id=\"df-eeaec4a3-3bcb-4322-9410-2025e665210f\" class=\"colab-df-container\">\n",
              "    <div>\n",
              "<style scoped>\n",
              "    .dataframe tbody tr th:only-of-type {\n",
              "        vertical-align: middle;\n",
              "    }\n",
              "\n",
              "    .dataframe tbody tr th {\n",
              "        vertical-align: top;\n",
              "    }\n",
              "\n",
              "    .dataframe thead th {\n",
              "        text-align: right;\n",
              "    }\n",
              "</style>\n",
              "<table border=\"1\" class=\"dataframe\">\n",
              "  <thead>\n",
              "    <tr style=\"text-align: right;\">\n",
              "      <th></th>\n",
              "      <th>Category</th>\n",
              "      <th>Message</th>\n",
              "    </tr>\n",
              "  </thead>\n",
              "  <tbody>\n",
              "    <tr>\n",
              "      <th>5220</th>\n",
              "      <td>ham</td>\n",
              "      <td>I have to take exam with in march 3</td>\n",
              "    </tr>\n",
              "    <tr>\n",
              "      <th>2591</th>\n",
              "      <td>ham</td>\n",
              "      <td>Lol I have to take it. member how I said my au...</td>\n",
              "    </tr>\n",
              "    <tr>\n",
              "      <th>2194</th>\n",
              "      <td>ham</td>\n",
              "      <td>I called but no one pick up e phone. I ask bot...</td>\n",
              "    </tr>\n",
              "    <tr>\n",
              "      <th>3918</th>\n",
              "      <td>ham</td>\n",
              "      <td>Eh ur laptop got no stock lei... He say mon mu...</td>\n",
              "    </tr>\n",
              "    <tr>\n",
              "      <th>4812</th>\n",
              "      <td>ham</td>\n",
              "      <td>E admin building there? I might b slightly ear...</td>\n",
              "    </tr>\n",
              "  </tbody>\n",
              "</table>\n",
              "</div>\n",
              "    <div class=\"colab-df-buttons\">\n",
              "\n",
              "  <div class=\"colab-df-container\">\n",
              "    <button class=\"colab-df-convert\" onclick=\"convertToInteractive('df-eeaec4a3-3bcb-4322-9410-2025e665210f')\"\n",
              "            title=\"Convert this dataframe to an interactive table.\"\n",
              "            style=\"display:none;\">\n",
              "\n",
              "  <svg xmlns=\"http://www.w3.org/2000/svg\" height=\"24px\" viewBox=\"0 -960 960 960\">\n",
              "    <path d=\"M120-120v-720h720v720H120Zm60-500h600v-160H180v160Zm220 220h160v-160H400v160Zm0 220h160v-160H400v160ZM180-400h160v-160H180v160Zm440 0h160v-160H620v160ZM180-180h160v-160H180v160Zm440 0h160v-160H620v160Z\"/>\n",
              "  </svg>\n",
              "    </button>\n",
              "\n",
              "  <style>\n",
              "    .colab-df-container {\n",
              "      display:flex;\n",
              "      gap: 12px;\n",
              "    }\n",
              "\n",
              "    .colab-df-convert {\n",
              "      background-color: #E8F0FE;\n",
              "      border: none;\n",
              "      border-radius: 50%;\n",
              "      cursor: pointer;\n",
              "      display: none;\n",
              "      fill: #1967D2;\n",
              "      height: 32px;\n",
              "      padding: 0 0 0 0;\n",
              "      width: 32px;\n",
              "    }\n",
              "\n",
              "    .colab-df-convert:hover {\n",
              "      background-color: #E2EBFA;\n",
              "      box-shadow: 0px 1px 2px rgba(60, 64, 67, 0.3), 0px 1px 3px 1px rgba(60, 64, 67, 0.15);\n",
              "      fill: #174EA6;\n",
              "    }\n",
              "\n",
              "    .colab-df-buttons div {\n",
              "      margin-bottom: 4px;\n",
              "    }\n",
              "\n",
              "    [theme=dark] .colab-df-convert {\n",
              "      background-color: #3B4455;\n",
              "      fill: #D2E3FC;\n",
              "    }\n",
              "\n",
              "    [theme=dark] .colab-df-convert:hover {\n",
              "      background-color: #434B5C;\n",
              "      box-shadow: 0px 1px 3px 1px rgba(0, 0, 0, 0.15);\n",
              "      filter: drop-shadow(0px 1px 2px rgba(0, 0, 0, 0.3));\n",
              "      fill: #FFFFFF;\n",
              "    }\n",
              "  </style>\n",
              "\n",
              "    <script>\n",
              "      const buttonEl =\n",
              "        document.querySelector('#df-eeaec4a3-3bcb-4322-9410-2025e665210f button.colab-df-convert');\n",
              "      buttonEl.style.display =\n",
              "        google.colab.kernel.accessAllowed ? 'block' : 'none';\n",
              "\n",
              "      async function convertToInteractive(key) {\n",
              "        const element = document.querySelector('#df-eeaec4a3-3bcb-4322-9410-2025e665210f');\n",
              "        const dataTable =\n",
              "          await google.colab.kernel.invokeFunction('convertToInteractive',\n",
              "                                                    [key], {});\n",
              "        if (!dataTable) return;\n",
              "\n",
              "        const docLinkHtml = 'Like what you see? Visit the ' +\n",
              "          '<a target=\"_blank\" href=https://colab.research.google.com/notebooks/data_table.ipynb>data table notebook</a>'\n",
              "          + ' to learn more about interactive tables.';\n",
              "        element.innerHTML = '';\n",
              "        dataTable['output_type'] = 'display_data';\n",
              "        await google.colab.output.renderOutput(dataTable, element);\n",
              "        const docLink = document.createElement('div');\n",
              "        docLink.innerHTML = docLinkHtml;\n",
              "        element.appendChild(docLink);\n",
              "      }\n",
              "    </script>\n",
              "  </div>\n",
              "\n",
              "\n",
              "<div id=\"df-14058ccb-c81a-4b55-8fa5-7d3b69ae0475\">\n",
              "  <button class=\"colab-df-quickchart\" onclick=\"quickchart('df-14058ccb-c81a-4b55-8fa5-7d3b69ae0475')\"\n",
              "            title=\"Suggest charts\"\n",
              "            style=\"display:none;\">\n",
              "\n",
              "<svg xmlns=\"http://www.w3.org/2000/svg\" height=\"24px\"viewBox=\"0 0 24 24\"\n",
              "     width=\"24px\">\n",
              "    <g>\n",
              "        <path d=\"M19 3H5c-1.1 0-2 .9-2 2v14c0 1.1.9 2 2 2h14c1.1 0 2-.9 2-2V5c0-1.1-.9-2-2-2zM9 17H7v-7h2v7zm4 0h-2V7h2v10zm4 0h-2v-4h2v4z\"/>\n",
              "    </g>\n",
              "</svg>\n",
              "  </button>\n",
              "\n",
              "<style>\n",
              "  .colab-df-quickchart {\n",
              "      --bg-color: #E8F0FE;\n",
              "      --fill-color: #1967D2;\n",
              "      --hover-bg-color: #E2EBFA;\n",
              "      --hover-fill-color: #174EA6;\n",
              "      --disabled-fill-color: #AAA;\n",
              "      --disabled-bg-color: #DDD;\n",
              "  }\n",
              "\n",
              "  [theme=dark] .colab-df-quickchart {\n",
              "      --bg-color: #3B4455;\n",
              "      --fill-color: #D2E3FC;\n",
              "      --hover-bg-color: #434B5C;\n",
              "      --hover-fill-color: #FFFFFF;\n",
              "      --disabled-bg-color: #3B4455;\n",
              "      --disabled-fill-color: #666;\n",
              "  }\n",
              "\n",
              "  .colab-df-quickchart {\n",
              "    background-color: var(--bg-color);\n",
              "    border: none;\n",
              "    border-radius: 50%;\n",
              "    cursor: pointer;\n",
              "    display: none;\n",
              "    fill: var(--fill-color);\n",
              "    height: 32px;\n",
              "    padding: 0;\n",
              "    width: 32px;\n",
              "  }\n",
              "\n",
              "  .colab-df-quickchart:hover {\n",
              "    background-color: var(--hover-bg-color);\n",
              "    box-shadow: 0 1px 2px rgba(60, 64, 67, 0.3), 0 1px 3px 1px rgba(60, 64, 67, 0.15);\n",
              "    fill: var(--button-hover-fill-color);\n",
              "  }\n",
              "\n",
              "  .colab-df-quickchart-complete:disabled,\n",
              "  .colab-df-quickchart-complete:disabled:hover {\n",
              "    background-color: var(--disabled-bg-color);\n",
              "    fill: var(--disabled-fill-color);\n",
              "    box-shadow: none;\n",
              "  }\n",
              "\n",
              "  .colab-df-spinner {\n",
              "    border: 2px solid var(--fill-color);\n",
              "    border-color: transparent;\n",
              "    border-bottom-color: var(--fill-color);\n",
              "    animation:\n",
              "      spin 1s steps(1) infinite;\n",
              "  }\n",
              "\n",
              "  @keyframes spin {\n",
              "    0% {\n",
              "      border-color: transparent;\n",
              "      border-bottom-color: var(--fill-color);\n",
              "      border-left-color: var(--fill-color);\n",
              "    }\n",
              "    20% {\n",
              "      border-color: transparent;\n",
              "      border-left-color: var(--fill-color);\n",
              "      border-top-color: var(--fill-color);\n",
              "    }\n",
              "    30% {\n",
              "      border-color: transparent;\n",
              "      border-left-color: var(--fill-color);\n",
              "      border-top-color: var(--fill-color);\n",
              "      border-right-color: var(--fill-color);\n",
              "    }\n",
              "    40% {\n",
              "      border-color: transparent;\n",
              "      border-right-color: var(--fill-color);\n",
              "      border-top-color: var(--fill-color);\n",
              "    }\n",
              "    60% {\n",
              "      border-color: transparent;\n",
              "      border-right-color: var(--fill-color);\n",
              "    }\n",
              "    80% {\n",
              "      border-color: transparent;\n",
              "      border-right-color: var(--fill-color);\n",
              "      border-bottom-color: var(--fill-color);\n",
              "    }\n",
              "    90% {\n",
              "      border-color: transparent;\n",
              "      border-bottom-color: var(--fill-color);\n",
              "    }\n",
              "  }\n",
              "</style>\n",
              "\n",
              "  <script>\n",
              "    async function quickchart(key) {\n",
              "      const quickchartButtonEl =\n",
              "        document.querySelector('#' + key + ' button');\n",
              "      quickchartButtonEl.disabled = true;  // To prevent multiple clicks.\n",
              "      quickchartButtonEl.classList.add('colab-df-spinner');\n",
              "      try {\n",
              "        const charts = await google.colab.kernel.invokeFunction(\n",
              "            'suggestCharts', [key], {});\n",
              "      } catch (error) {\n",
              "        console.error('Error during call to suggestCharts:', error);\n",
              "      }\n",
              "      quickchartButtonEl.classList.remove('colab-df-spinner');\n",
              "      quickchartButtonEl.classList.add('colab-df-quickchart-complete');\n",
              "    }\n",
              "    (() => {\n",
              "      let quickchartButtonEl =\n",
              "        document.querySelector('#df-14058ccb-c81a-4b55-8fa5-7d3b69ae0475 button');\n",
              "      quickchartButtonEl.style.display =\n",
              "        google.colab.kernel.accessAllowed ? 'block' : 'none';\n",
              "    })();\n",
              "  </script>\n",
              "</div>\n",
              "\n",
              "    </div>\n",
              "  </div>\n"
            ],
            "text/plain": [
              "     Category                                            Message\n",
              "5220      ham                I have to take exam with in march 3\n",
              "2591      ham  Lol I have to take it. member how I said my au...\n",
              "2194      ham  I called but no one pick up e phone. I ask bot...\n",
              "3918      ham  Eh ur laptop got no stock lei... He say mon mu...\n",
              "4812      ham  E admin building there? I might b slightly ear..."
            ]
          },
          "execution_count": 9,
          "metadata": {},
          "output_type": "execute_result"
        }
      ],
      "source": [
        "data_copy.sample(5)"
      ]
    },
    {
      "cell_type": "code",
      "execution_count": 10,
      "metadata": {
        "colab": {
          "base_uri": "https://localhost:8080/"
        },
        "id": "ABvdpJ8wA6M6",
        "outputId": "572dadfa-212e-4818-a784-c8af808d4c84"
      },
      "outputs": [
        {
          "data": {
            "text/plain": [
              "(5573, 2)"
            ]
          },
          "execution_count": 10,
          "metadata": {},
          "output_type": "execute_result"
        }
      ],
      "source": [
        "data_copy.shape"
      ]
    },
    {
      "cell_type": "markdown",
      "metadata": {
        "id": "ztZ0nJhH_qd-"
      },
      "source": [
        "# Data Cleaning"
      ]
    },
    {
      "cell_type": "code",
      "execution_count": 11,
      "metadata": {
        "id": "--oZljiF_jrH"
      },
      "outputs": [],
      "source": [
        "#converting the classes into integers\n",
        "data_copy.replace({\"ham\":1,\"spam\":0},inplace=True)"
      ]
    },
    {
      "cell_type": "code",
      "execution_count": 12,
      "metadata": {
        "colab": {
          "base_uri": "https://localhost:8080/"
        },
        "id": "xi99QfI1BQ6C",
        "outputId": "2a6c376d-6671-4f64-e96d-925d4eff27f3"
      },
      "outputs": [
        {
          "data": {
            "text/plain": [
              "415"
            ]
          },
          "execution_count": 12,
          "metadata": {},
          "output_type": "execute_result"
        }
      ],
      "source": [
        "#checking if there any duplicated() data\n",
        "data_copy.duplicated().sum()"
      ]
    },
    {
      "cell_type": "code",
      "execution_count": 13,
      "metadata": {
        "id": "V-kug-JGBZL9"
      },
      "outputs": [],
      "source": [
        "#dropping duplicated data\n",
        "data_copy.drop_duplicates(inplace=True)"
      ]
    },
    {
      "cell_type": "code",
      "execution_count": 14,
      "metadata": {
        "colab": {
          "base_uri": "https://localhost:8080/"
        },
        "id": "3GBJfWN4BgOw",
        "outputId": "4b63a6f7-b54a-45c3-9050-d84fdcaa1360"
      },
      "outputs": [
        {
          "data": {
            "text/plain": [
              "Category    0\n",
              "Message     0\n",
              "dtype: int64"
            ]
          },
          "execution_count": 14,
          "metadata": {},
          "output_type": "execute_result"
        }
      ],
      "source": [
        "#checking missing data\n",
        "data_copy.isnull().sum()"
      ]
    },
    {
      "cell_type": "code",
      "execution_count": 15,
      "metadata": {
        "colab": {
          "base_uri": "https://localhost:8080/"
        },
        "id": "CfrfUN0NDCVX",
        "outputId": "9fbbefe8-b0ba-441f-9fb8-b4e2b7fcc1cb"
      },
      "outputs": [
        {
          "data": {
            "text/plain": [
              "Category\n",
              "1                 4516\n",
              "0                  641\n",
              "{\"mode\":\"full\"       1\n",
              "Name: count, dtype: int64"
            ]
          },
          "execution_count": 15,
          "metadata": {},
          "output_type": "execute_result"
        }
      ],
      "source": [
        "data_copy[\"Category\"].value_counts()"
      ]
    },
    {
      "cell_type": "code",
      "execution_count": 16,
      "metadata": {
        "id": "ryoB6sotC1G0"
      },
      "outputs": [],
      "source": [
        "# dropping the unknown category in target column\n",
        "data_copy = data_copy[data_copy[\"Category\"] != '{\"mode\":\"full\"']"
      ]
    },
    {
      "cell_type": "markdown",
      "metadata": {
        "id": "wy5P-423Bl9-"
      },
      "source": [
        "# Exploratory data analysis"
      ]
    },
    {
      "cell_type": "code",
      "execution_count": 17,
      "metadata": {
        "colab": {
          "base_uri": "https://localhost:8080/",
          "height": 507
        },
        "id": "8L0PKtrnBM8F",
        "outputId": "fbc9d47f-fe12-4f95-e680-5def1f531635"
      },
      "outputs": [
        {
          "data": {
            "image/png": "[encoded data removed]",
            "text/plain": [
              "<Figure size 1000x500 with 2 Axes>"
            ]
          },
          "metadata": {},
          "output_type": "display_data"
        }
      ],
      "source": [
        "#checking the frequency count of target column via countplot and pie chart\n",
        "plt.figure(figsize=(10, 5))\n",
        "\n",
        "plt.subplot(121)\n",
        "data_copy[\"Category\"].value_counts().plot(kind=\"bar\")\n",
        "plt.title(\"Bar Plot\")\n",
        "\n",
        "plt.subplot(122)\n",
        "data_copy[\"Category\"].value_counts().plot(kind=\"pie\", autopct=\"%1.1f%%\")\n",
        "plt.title(\"Pie Chart\")\n",
        "\n",
        "plt.tight_layout()\n",
        "plt.show()"
      ]
    },
    {
      "cell_type": "markdown",
      "metadata": {
        "id": "W9klvO6rCo4P"
      },
      "source": [
        "\n",
        "\n",
        "*   There is a unknown category we will drop it in data cleaning process beside that it seems that data is imbalance\n"
      ]
    },
    {
      "cell_type": "markdown",
      "metadata": {
        "id": "JvRaUT5zEUnZ"
      },
      "source": [
        "#  Data Preprocessing"
      ]
    },
    {
      "cell_type": "code",
      "execution_count": 18,
      "metadata": {
        "id": "gcTLh9lBGh-I"
      },
      "outputs": [],
      "source": [
        "ps = PorterStemmer()"
      ]
    },
    {
      "cell_type": "code",
      "execution_count": 19,
      "metadata": {
        "id": "tOxgHO8UIYHh"
      },
      "outputs": [],
      "source": [
        "# Initialize the PorterStemmer\n",
        "ps = PorterStemmer()\n",
        "\n",
        "def transform_text(text):\n",
        "    # Convert the text into lowercase\n",
        "    text = text.lower()\n",
        "    # Tokenization of the text\n",
        "    text = nltk.word_tokenize(text)\n",
        "\n",
        "    # Remove the special characters and keep only alphanumeric words\n",
        "    List = [i for i in text if i.isalnum()]\n",
        "\n",
        "    # Remove stop words and punctuation\n",
        "    List = [word for word in List if word not in stopwords.words(\"english\") and word not in string.punctuation]\n",
        "\n",
        "    # Stemming our text\n",
        "    List = [ps.stem(word) for word in List]\n",
        "\n",
        "    # Return the processed text joined together\n",
        "    return \" \".join(List)\n"
      ]
    },
    {
      "cell_type": "code",
      "execution_count": 20,
      "metadata": {
        "colab": {
          "base_uri": "https://localhost:8080/",
          "height": 35
        },
        "id": "sEftDO5mHGLR",
        "outputId": "a3b25cb6-8c06-49b1-ac2f-c7adf73f964d"
      },
      "outputs": [
        {
          "data": {
            "application/vnd.google.colaboratory.intrinsic+json": {
              "type": "string"
            },
            "text/plain": [
              "'Go until jurong point, crazy.. Available only in bugis n great world la e buffet... Cine there got amore wat...'"
            ]
          },
          "execution_count": 20,
          "metadata": {},
          "output_type": "execute_result"
        }
      ],
      "source": [
        "data_copy[\"Message\"][0]"
      ]
    },
    {
      "cell_type": "code",
      "execution_count": 21,
      "metadata": {
        "colab": {
          "base_uri": "https://localhost:8080/",
          "height": 35
        },
        "id": "2cYRTmw3HMy1",
        "outputId": "dd5c5a75-2d71-406f-fcd5-760bf5ed0f87"
      },
      "outputs": [
        {
          "data": {
            "application/vnd.google.colaboratory.intrinsic+json": {
              "type": "string"
            },
            "text/plain": [
              "'go jurong point crazi avail bugi n great world la e buffet cine got amor wat'"
            ]
          },
          "execution_count": 21,
          "metadata": {},
          "output_type": "execute_result"
        }
      ],
      "source": [
        "transform_text(\"Go until jurong point, crazy.. Available only in bugis n great world la e buffet... Cine there got amore wat...\")"
      ]
    },
    {
      "cell_type": "code",
      "execution_count": 22,
      "metadata": {
        "id": "sDOAVvgZbX-w"
      },
      "outputs": [],
      "source": [
        "#applying the fucntion on our text\n",
        "data_copy[\"transformed_message\"] = data_copy[\"Message\"].apply(transform_text)"
      ]
    },
    {
      "cell_type": "markdown",
      "metadata": {
        "id": "FaasoThzIpQw"
      },
      "source": [
        "# Model Building"
      ]
    },
    {
      "cell_type": "code",
      "execution_count": 23,
      "metadata": {
        "id": "FMzso48JHbQr"
      },
      "outputs": [],
      "source": [
        "#now transforming our text via CountVector, TfidfVectorizer\n",
        "cv = CountVectorizer()\n",
        "tfidf = TfidfVectorizer(max_features=3000)"
      ]
    },
    {
      "cell_type": "code",
      "execution_count": 24,
      "metadata": {
        "id": "Hs9zRCv-JhY1"
      },
      "outputs": [],
      "source": [
        "#tfidfVectorizer\n",
        "X = tfidf.fit_transform(data_copy[\"transformed_message\"]).toarray()"
      ]
    },
    {
      "cell_type": "code",
      "execution_count": 25,
      "metadata": {
        "colab": {
          "base_uri": "https://localhost:8080/"
        },
        "id": "RcGIJsV8b3aM",
        "outputId": "fe5a44e9-7cc5-4e29-a463-802d573dcff1"
      },
      "outputs": [
        {
          "data": {
            "text/plain": [
              "(5157, 3000)"
            ]
          },
          "execution_count": 25,
          "metadata": {},
          "output_type": "execute_result"
        }
      ],
      "source": [
        "#shape of new data\n",
        "X.shape"
      ]
    },
    {
      "cell_type": "code",
      "execution_count": 26,
      "metadata": {
        "id": "RGNOO-xlb8k_"
      },
      "outputs": [],
      "source": [
        "#storing the target variable in y\n",
        "y = data_copy[\"Category\"].values"
      ]
    },
    {
      "cell_type": "code",
      "execution_count": 27,
      "metadata": {
        "id": "d5jBdYTxcMLt"
      },
      "outputs": [],
      "source": [
        "#splitting the data into training and testing phase\n",
        "x_train, x_test, y_train, y_test = train_test_split(X, y, test_size=0.2, random_state=42)"
      ]
    },
    {
      "cell_type": "code",
      "execution_count": 28,
      "metadata": {
        "colab": {
          "base_uri": "https://localhost:8080/",
          "height": 506
        },
        "id": "IStrFKAgdf_F",
        "outputId": "483dd1c4-e541-4a2d-e3b8-74ed7bca53af"
      },
      "outputs": [
        {
          "name": "stdout",
          "output_type": "stream",
          "text": [
            "The accuracy of the GaussianNB is 0.8817829457364341,  precision is 0.9813432835820896, f1_score is 0.928235294117647 and recall is 0.8805803571428571\n",
            "The accuracy of the MultinomialNB is 0.9777131782945736,  precision is 0.9749727965179543, f1_score is 0.98732782369146 and recall is 1.0\n",
            "The accuracy of the BernoulliNB is 0.9854651162790697,  precision is 0.9856670341786108, f1_score is 0.9916805324459234 and recall is 0.9977678571428571\n"
          ]
        },
        {
          "data": {
            "image/png": "[encoded data removed]",
            "text/plain": [
              "<Figure size 1800x600 with 6 Axes>"
            ]
          },
          "metadata": {},
          "output_type": "display_data"
        }
      ],
      "source": [
        "#making subplots for the models\n",
        "fig, ax = plt.subplots(ncols=3, nrows=1,figsize=(18,6))\n",
        "ax.flatten()\n",
        "\n",
        "# Models to test as per say that navie bayes works the best for the textual data so lets find out.\n",
        "models = [GaussianNB(), MultinomialNB(), BernoulliNB()]\n",
        "\n",
        "# Encode labels if they are not numeric (although they already are in this case)\n",
        "if y_train.dtype == 'object' or y_test.dtype == 'object':\n",
        "    le = LabelEncoder()\n",
        "    y_train = le.fit_transform(y_train)\n",
        "    y_test = le.transform(y_test)\n",
        "\n",
        "# Ensure x_train and x_test are in the correct format for each model\n",
        "for index,model in enumerate(models):\n",
        "    if isinstance(model, MultinomialNB):\n",
        "        # Ensure x_train and x_test contain non-negative counts\n",
        "        x_train = np.abs(x_train)\n",
        "        x_test = np.abs(x_test)\n",
        "    elif isinstance(model, BernoulliNB):\n",
        "        # Ensure x_train and x_test are binary\n",
        "        x_train = (x_train > 0).astype(int)\n",
        "        x_test = (x_test > 0).astype(int)\n",
        "\n",
        "    # Fit and predict each model and print its accuracy and precision score\n",
        "    model.fit(x_train, y_train)\n",
        "    y_pred = model.predict(x_test)\n",
        "    accuracy = accuracy_score(y_test, y_pred)\n",
        "    precision = precision_score(y_test, y_pred)\n",
        "    f1_Score = f1_score(y_test,y_pred)\n",
        "    recall = recall_score(y_test,y_pred)\n",
        "    print(f\"The accuracy of the {model.__class__.__name__} is {accuracy},  precision is {precision}, f1_score is {f1_Score} and recall is {recall}\")\n",
        "\n",
        "    #now make a confusion matrix for each model\n",
        "    sns.heatmap(confusion_matrix(y_test,y_pred),annot=True,ax=ax[index])\n"
      ]
    },
    {
      "cell_type": "markdown",
      "metadata": {
        "id": "N4AG6xW3je3B"
      },
      "source": [
        "\n",
        "\n",
        "*   It is clear that BernoulliNB has most accuracy and precision score and doing less FB mistakes.\n",
        "\n"
      ]
    },
    {
      "cell_type": "code",
      "execution_count": 29,
      "metadata": {
        "colab": {
          "base_uri": "https://localhost:8080/"
        },
        "id": "sdaLEQiAhx93",
        "outputId": "e9ba599c-0793-4397-ff30-0a21c8371049"
      },
      "outputs": [
        {
          "name": "stdout",
          "output_type": "stream",
          "text": [
            "The accuracy of the GaussianNB is 0.8817829457364341 and precision is 0.9825436408977556\n",
            "The accuracy of the MultinomialNB is 0.9767441860465116 and precision is 0.9920993227990971\n",
            "The accuracy of the BernoulliNB is 0.9854651162790697 and precision is 0.9856670341786108\n",
            "The accuracy of the SVC is 0.9186046511627907 and precision is 0.9541387024608501\n",
            "The accuracy of the KNeighborsClassifier is 0.9195736434108527 and precision is 0.9152196118488254\n",
            "The accuracy of the DecisionTreeClassifier is 0.9292635658914729 and precision is 0.9290928050052137\n",
            "The accuracy of the LogisticRegression is 0.9757751937984496 and precision is 0.9790979097909791\n",
            "The accuracy of the RandomForestClassifier is 0.9777131782945736 and precision is 0.9780941949616648\n",
            "The accuracy of the AdaBoostClassifier is 0.9573643410852714 and precision is 0.9691629955947136\n",
            "The accuracy of the BaggingClassifier is 0.9670542635658915 and precision is 0.9821029082774049\n",
            "The accuracy of the ExtraTreesClassifier is 0.9786821705426356 and precision is 0.9812775330396476\n",
            "The accuracy of the GradientBoostingClassifier is 0.9544573643410853 and precision is 0.954983922829582\n",
            "The accuracy of the XGBClassifier is 0.9767441860465116 and precision is 0.9791208791208791\n"
          ]
        }
      ],
      "source": [
        "#now lets try out same code but with more models so we can select one for further analysis\n",
        "# Models to test\n",
        "models = [GaussianNB(), MultinomialNB(), BernoulliNB(),SVC(kernel='sigmoid', gamma=1.0),\n",
        "          KNeighborsClassifier(),DecisionTreeClassifier(max_depth=5),LogisticRegression(solver='liblinear', penalty='l1'),\n",
        "          RandomForestClassifier(n_estimators=50, random_state=2),AdaBoostClassifier(n_estimators=50, random_state=2),\n",
        "          BaggingClassifier(n_estimators=50, random_state=2),ExtraTreesClassifier(n_estimators=50, random_state=2),\n",
        "          GradientBoostingClassifier(n_estimators=50,random_state=2),XGBClassifier(n_estimators=50,random_state=2)]\n",
        "\n",
        "# Encode labels if they are not numeric (although they already are in this case)\n",
        "if y_train.dtype == 'object' or y_test.dtype == 'object':\n",
        "    le = LabelEncoder()\n",
        "    y_train = le.fit_transform(y_train)\n",
        "    y_test = le.transform(y_test)\n",
        "\n",
        "# Ensure x_train and x_test are in the correct format for each model\n",
        "for index,model in enumerate(models):\n",
        "    if isinstance(model, MultinomialNB):\n",
        "        # Ensure x_train and x_test contain non-negative counts\n",
        "        x_train = np.abs(x_train)\n",
        "        x_test = np.abs(x_test)\n",
        "    elif isinstance(model, BernoulliNB):\n",
        "        # Ensure x_train and x_test are binary\n",
        "        x_train = (x_train > 0).astype(int)\n",
        "        x_test = (x_test > 0).astype(int)\n",
        "\n",
        "    # Fit and predict each model and print its accuracy and precision score\n",
        "    model.fit(x_train, y_train)\n",
        "    y_pred = model.predict(x_test)\n",
        "    accuracy = accuracy_score(y_test, y_pred)\n",
        "    precision = precision_score(y_test, y_pred)\n",
        "    print(f\"The accuracy of the {model.__class__.__name__} is {accuracy} and precision is {precision}\")"
      ]
    },
    {
      "cell_type": "markdown",
      "metadata": {
        "id": "5nLr9Okj0SKR"
      },
      "source": [
        "\n",
        "\n",
        "*   We are moving with the BernoulliNB\n",
        "\n"
      ]
    },
    {
      "cell_type": "markdown",
      "metadata": {
        "id": "VTqTxNGELDpw"
      },
      "source": [
        "### Checking if we can increase the accuracy via dealing with imbalance data"
      ]
    },
    {
      "cell_type": "code",
      "execution_count": 30,
      "metadata": {
        "colab": {
          "base_uri": "https://localhost:8080/"
        },
        "id": "vFlDP0SnIvBz",
        "outputId": "0a5670b6-b0d1-4b2d-8bfd-a8c11ba3eb20"
      },
      "outputs": [
        {
          "name": "stdout",
          "output_type": "stream",
          "text": [
            "Results for Oversampling:\n",
            "Accuracy: 0.8817829457364341, Precision: 0.9825436408977556\n",
            "\n",
            "Results for Undersampling:\n",
            "Accuracy: 0.939922480620155, Precision: 0.9882903981264637\n"
          ]
        }
      ],
      "source": [
        "# Oversampling to address class imbalance\n",
        "ros = RandomOverSampler(random_state=42)\n",
        "x_resampled_ros, y_resampled_ros = ros.fit_resample(x_train, y_train)\n",
        "\n",
        "# Train the Gaussian Naive Bayes model on the oversampled data\n",
        "gnb_ros = GaussianNB()\n",
        "gnb_ros.fit(x_resampled_ros, y_resampled_ros)\n",
        "\n",
        "# Make predictions on the test set using the oversampled model\n",
        "y_preds_ros = gnb_ros.predict(x_test)\n",
        "\n",
        "# Calculate accuracy and precision for the oversampled model\n",
        "accuracy_ros = accuracy_score(y_test, y_preds_ros)\n",
        "precision_ros = precision_score(y_test, y_preds_ros)\n",
        "\n",
        "# Undersampling to address class imbalance\n",
        "rus = RandomUnderSampler(random_state=42)\n",
        "x_resampled_rus, y_resampled_rus = rus.fit_resample(x_train, y_train)\n",
        "\n",
        "# Train the Gaussian Naive Bayes model on the undersampled data\n",
        "gnb_rus = GaussianNB()\n",
        "gnb_rus.fit(x_resampled_rus, y_resampled_rus)\n",
        "\n",
        "# Make predictions on the test set using the undersampled model\n",
        "y_preds_rus = gnb_rus.predict(x_test)\n",
        "\n",
        "# Calculate accuracy and precision for the undersampled model\n",
        "accuracy_rus = accuracy_score(y_test, y_preds_rus)\n",
        "precision_rus = precision_score(y_test, y_preds_rus)\n",
        "\n",
        "# Print the results\n",
        "print(\"Results for Oversampling:\")\n",
        "print(f\"Accuracy: {accuracy_ros}, Precision: {precision_ros}\")\n",
        "\n",
        "print(\"\\nResults for Undersampling:\")\n",
        "print(f\"Accuracy: {accuracy_rus}, Precision: {precision_rus}\")"
      ]
    },
    {
      "cell_type": "markdown",
      "metadata": {
        "id": "XsGI7vWiLL8B"
      },
      "source": [
        "\n",
        "\n",
        "*   No benefit\n",
        "\n"
      ]
    }
  ],
  "metadata": {
    "colab": {
      "provenance": []
    },
    "kernelspec": {
      "display_name": "Python 3",
      "name": "python3"
    },
    "language_info": {
      "name": "python"
    }
  },
  "nbformat": 4,
  "nbformat_minor": 0
}
